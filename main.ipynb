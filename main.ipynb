{
 "cells": [
  {
   "cell_type": "code",
   "execution_count": 2,
   "metadata": {},
   "outputs": [],
   "source": [
    "import numpy as np\n",
    "import pandas as pd\n",
    "import matplotlib.pyplot as plt\n",
    "import cv2\n",
    "from sklearn.model_selection import train_test_split\n",
    "from tensorflow.keras.preprocessing.image import ImageDataGenerator\n",
    "from tensorflow.keras.applications.resnet50 import ResNet50\n",
    "import tensorflow as tf\n",
    "from tensorflow import keras\n",
    "from tensorflow.keras import layers\n",
    "from sklearn.preprocessing import OneHotEncoder\n"
   ]
  },
  {
   "cell_type": "markdown",
   "metadata": {},
   "source": [
    "# Preprocess Data"
   ]
  },
  {
   "cell_type": "markdown",
   "metadata": {},
   "source": [
    "### Read Images"
   ]
  },
  {
   "cell_type": "code",
   "execution_count": 3,
   "metadata": {},
   "outputs": [],
   "source": [
    "img = cv2.imread('Ala_Idris\\Ala_Idris (1).png')\n",
    "# img = cv2.cvtColor(img, cv2.COLOR_BGR2GRAY)\n",
    "data = [img]\n",
    "\n",
    "label = np.array([0])\n",
    "\n",
    "for i in range(2,101):\n",
    "    img = cv2.imread('Ala_Idris\\Ala_Idris ({i}).png'.format(i=i))\n",
    "    # img = cv2.cvtColor(img, cv2.COLOR_BGR2GRAY)\n",
    "    data = np.append(data, [img], axis=0)\n",
    "    label = np.append(label, [0])\n",
    "\n",
    "for i in range(1,101):\n",
    "    img = cv2.imread('Buzgulu\\Buzgulu ({i}).png'.format(i=i))\n",
    "    # img = cv2.cvtColor(img, cv2.COLOR_BGR2GRAY)\n",
    "    data = np.append(data, [img], axis=0)\n",
    "    label = np.append(label, [1])\n",
    "\n",
    "for i in range(1,101):\n",
    "    img = cv2.imread('Dimnit\\Dimnit ({i}).png'.format(i=i))\n",
    "    # img = cv2.cvtColor(img, cv2.COLOR_BGR2GRAY)\n",
    "    data = np.append(data, [img], axis=0)\n",
    "    label = np.append(label, [2])\n",
    "\n",
    "for i in range(1,101):\n",
    "    img = cv2.imread('Nazli/Nazli ({i}).png'.format(i=i))\n",
    "    # img = cv2.cvtColor(img, cv2.COLOR_BGR2GRAY)\n",
    "    data = np.append(data, [img], axis=0)\n",
    "    label = np.append(label, [3])\n",
    "\n",
    "data = data / 255"
   ]
  },
  {
   "cell_type": "code",
   "execution_count": 4,
   "metadata": {},
   "outputs": [],
   "source": [
    "# label = OneHotEncoder().fit_transform(label.reshape(-1,1)).toarray()"
   ]
  },
  {
   "cell_type": "markdown",
   "metadata": {},
   "source": [
    "### Split Data"
   ]
  },
  {
   "cell_type": "code",
   "execution_count": 5,
   "metadata": {},
   "outputs": [],
   "source": [
    "X_train, X_test, y_train, y_test = train_test_split(data, label, test_size=0.2, random_state=42)"
   ]
  },
  {
   "cell_type": "markdown",
   "metadata": {},
   "source": [
    "## Data argumetaions"
   ]
  },
  {
   "cell_type": "code",
   "execution_count": 6,
   "metadata": {},
   "outputs": [],
   "source": [
    "X_train_arg = X_train.astype(int)\n",
    "y_train_arg = y_train"
   ]
  },
  {
   "cell_type": "markdown",
   "metadata": {},
   "source": [
    "#### Horizontal Shift"
   ]
  },
  {
   "cell_type": "code",
   "execution_count": 7,
   "metadata": {},
   "outputs": [],
   "source": [
    "\n",
    "# datagen = ImageDataGenerator(width_shift_range=[-100,100])\n",
    "# it = datagen.flow(X_train, batch_size=320,shuffle = False)\n",
    "# for i in range(1):\n",
    "# \tbatch = it.next()\t\n",
    "# \t# image = batch[1].astype('uint8')\n",
    "# \tX_train_arg = np.append(X_train_arg, batch.astype(int), axis=0)\n",
    "# \ty_train_arg = np.append(y_train_arg, y_train, axis=0)\n",
    "\n",
    "\n"
   ]
  },
  {
   "cell_type": "markdown",
   "metadata": {},
   "source": [
    "#### Vertical shift"
   ]
  },
  {
   "cell_type": "code",
   "execution_count": 8,
   "metadata": {},
   "outputs": [],
   "source": [
    "# datagen = ImageDataGenerator(height_shift_range=0.5)\n",
    "# it = datagen.flow(X_train, batch_size=320,shuffle = False)\n",
    "# for i in range(1):\n",
    "# \tbatch = it.next()\t\n",
    "# \t# image = batch[1].astype('uint8')\n",
    "# \tX_train_arg = np.append(X_train_arg, batch.astype(int), axis=0)\n",
    "# \ty_train_arg = np.append(y_train_arg, y_train, axis=0)\n",
    "\n"
   ]
  },
  {
   "cell_type": "markdown",
   "metadata": {},
   "source": [
    "#### "
   ]
  },
  {
   "cell_type": "markdown",
   "metadata": {},
   "source": [
    "#### Rotation"
   ]
  },
  {
   "cell_type": "code",
   "execution_count": 9,
   "metadata": {},
   "outputs": [],
   "source": [
    "# datagen = ImageDataGenerator(rotation_range=90)\n",
    "# it = datagen.flow(X_train, batch_size=320,shuffle = False)\n",
    "# for i in range(1):\n",
    "# \tbatch = it.next()\t\n",
    "# \t# image = batch[1].astype('uint8')\n",
    "# \tX_train_arg = np.append(X_train_arg, batch.astype(int), axis=0)\n",
    "# \ty_train_arg = np.append(y_train_arg, y_train, axis=0)\n",
    "\n"
   ]
  },
  {
   "cell_type": "markdown",
   "metadata": {},
   "source": [
    "## Split Validation"
   ]
  },
  {
   "cell_type": "code",
   "execution_count": 10,
   "metadata": {},
   "outputs": [],
   "source": [
    "X_train, X_valid, y_train, y_valid = train_test_split(X_train_arg, y_train_arg, test_size=0.2, random_state=42)"
   ]
  },
  {
   "cell_type": "code",
   "execution_count": null,
   "metadata": {},
   "outputs": [],
   "source": []
  },
  {
   "cell_type": "markdown",
   "metadata": {},
   "source": [
    "## Auto Encoding"
   ]
  },
  {
   "cell_type": "code",
   "execution_count": 12,
   "metadata": {},
   "outputs": [],
   "source": [
    "encoding_dim = (224*224)\n",
    "input_img = keras.Input(shape=(511*511,))\n",
    "\n",
    "encoded = layers.Dense(encoding_dim, activation='relu')(input_img)\n",
    "decoded = layers.Dense(783363, activation='sigmoid')(encoded)\n",
    "\n",
    "autoencoder = keras.Model(input_img, decoded)\n",
    "\n",
    "encoder = keras.Model(input_img, encoded)\n",
    "\n",
    "encoded_input = keras.Input(shape=(encoding_dim,))\n",
    "decoder_layer = autoencoder.layers[-1]\n",
    "decoder = keras.Model(encoded_input, decoder_layer(encoded_input))\n",
    "\n",
    "autoencoder.compile(optimizer='adam', loss='binary_crossentropy')\n",
    "\n",
    "# autoencoder.fit(X_train, X_train,\n",
    "#                 epochs=50,\n",
    "#                 batch_size=256,\n",
    "#                 shuffle=False,\n",
    "#                 validation_data=(X_train, X_valid))\n",
    "\n",
    "# encoded_imgs = encoder.predict(X_valid)\n",
    "\n"
   ]
  },
  {
   "cell_type": "markdown",
   "metadata": {},
   "source": [
    "# Define Network Based on ResNet50"
   ]
  },
  {
   "cell_type": "code",
   "execution_count": 13,
   "metadata": {},
   "outputs": [],
   "source": [
    "def preprocess_image_input(input_images):\n",
    "  input_images = input_images.astype('float32')\n",
    "  output_ims = tf.keras.applications.resnet50.preprocess_input(input_images)\n",
    "  return output_ims"
   ]
  },
  {
   "cell_type": "code",
   "execution_count": 14,
   "metadata": {},
   "outputs": [],
   "source": [
    "X_train = preprocess_image_input(X_train)\n",
    "X_valid = preprocess_image_input(X_valid)\n"
   ]
  },
  {
   "cell_type": "code",
   "execution_count": 15,
   "metadata": {},
   "outputs": [],
   "source": [
    "def feature_extractor(inputs):\n",
    "  feature_extractor = tf.keras.applications.resnet.ResNet50(input_shape=(511, 511,3),\n",
    "                                              include_top=False,\n",
    "                                              weights='imagenet')(inputs)\n",
    "  return feature_extractor"
   ]
  },
  {
   "cell_type": "code",
   "execution_count": 16,
   "metadata": {},
   "outputs": [],
   "source": [
    "def classifier(inputs):\n",
    "    x = tf.keras.layers.GlobalAveragePooling2D()(inputs)\n",
    "    x = tf.keras.layers.Flatten()(x)\n",
    "    # x = tf.keras.layers.Dense(1024, activation=\"relu\")(x)\n",
    "    x = tf.keras.layers.Dense(512, activation=\"relu\")(x)\n",
    "    x = tf.keras.layers.Dense(4, activation=\"softmax\", name=\"classification\")(x)\n",
    "    return x"
   ]
  },
  {
   "cell_type": "code",
   "execution_count": 21,
   "metadata": {},
   "outputs": [],
   "source": [
    "def final_model(inputs):\n",
    "    # resize = tf.keras.layers.UpSampling2D(size=(7,7))(inputs)\n",
    "    resize = inputs\n",
    "    # resnet_feature_extractor = feature_extractor(resize)\n",
    "    # classification_output = classifier(resnet_feature_extractor)\n",
    "    classification_output = classifier(resize)\n",
    "    return classification_output"
   ]
  },
  {
   "cell_type": "code",
   "execution_count": 18,
   "metadata": {},
   "outputs": [],
   "source": [
    "def compile_model():\n",
    "    inputs = tf.keras.layers.Input(shape=(511,511,3))\n",
    "    classification_output = final_model(inputs) \n",
    "    model = tf.keras.Model(inputs=inputs, outputs = classification_output)\n",
    " \n",
    "    model.compile(optimizer='SGD', \n",
    "                loss='sparse_categorical_crossentropy',\n",
    "                metrics = ['accuracy'])\n",
    "  \n",
    "    return model"
   ]
  },
  {
   "cell_type": "code",
   "execution_count": 22,
   "metadata": {},
   "outputs": [
    {
     "name": "stdout",
     "output_type": "stream",
     "text": [
      "Model: \"model_1\"\n",
      "_________________________________________________________________\n",
      "Layer (type)                 Output Shape              Param #   \n",
      "=================================================================\n",
      "input_4 (InputLayer)         [(None, 511, 511, 3)]     0         \n",
      "_________________________________________________________________\n",
      "global_average_pooling2d_1 ( (None, 3)                 0         \n",
      "_________________________________________________________________\n",
      "flatten_1 (Flatten)          (None, 3)                 0         \n",
      "_________________________________________________________________\n",
      "dense_2 (Dense)              (None, 512)               2048      \n",
      "_________________________________________________________________\n",
      "classification (Dense)       (None, 4)                 2052      \n",
      "=================================================================\n",
      "Total params: 4,100\n",
      "Trainable params: 4,100\n",
      "Non-trainable params: 0\n",
      "_________________________________________________________________\n"
     ]
    }
   ],
   "source": [
    "model = compile_model()\n",
    "model.summary()"
   ]
  },
  {
   "cell_type": "code",
   "execution_count": 24,
   "metadata": {},
   "outputs": [
    {
     "name": "stdout",
     "output_type": "stream",
     "text": [
      "Epoch 1/4\n",
      "32/32 [==============================] - 1s 29ms/step - loss: 1.3859 - accuracy: 0.2617 - val_loss: 1.3886 - val_accuracy: 0.1719\n",
      "Epoch 2/4\n",
      "32/32 [==============================] - 1s 19ms/step - loss: 1.3854 - accuracy: 0.2383 - val_loss: 1.3898 - val_accuracy: 0.1719\n",
      "Epoch 3/4\n",
      "32/32 [==============================] - 1s 37ms/step - loss: 1.3850 - accuracy: 0.2773 - val_loss: 1.3908 - val_accuracy: 0.1719\n",
      "Epoch 4/4\n",
      "32/32 [==============================] - 1s 17ms/step - loss: 1.3846 - accuracy: 0.2773 - val_loss: 1.3918 - val_accuracy: 0.1719\n"
     ]
    }
   ],
   "source": [
    "EPOCHS = 4\n",
    "y_train = y_train.reshape(256,1).astype('uint8')\n",
    "y_valid = y_valid.reshape(64,1).astype('uint8')\n",
    "history = model.fit(X_train, y_train, epochs=EPOCHS, validation_data = (X_valid, y_valid), batch_size=8)\n",
    "# X_train.shape\n",
    "# y_valid.shape\n",
    "# print(y_train.shape)\n",
    "# print(X_valid.shape)\n",
    "# y_train\n"
   ]
  }
 ],
 "metadata": {
  "kernelspec": {
   "display_name": "Python 3.8.6 64-bit",
   "language": "python",
   "name": "python3"
  },
  "language_info": {
   "codemirror_mode": {
    "name": "ipython",
    "version": 3
   },
   "file_extension": ".py",
   "mimetype": "text/x-python",
   "name": "python",
   "nbconvert_exporter": "python",
   "pygments_lexer": "ipython3",
   "version": "3.8.6"
  },
  "orig_nbformat": 4,
  "vscode": {
   "interpreter": {
    "hash": "a12611739b13f1ae8068d0a65a2b0c6a7daf59c9b0d15249313a2454a6a5494c"
   }
  }
 },
 "nbformat": 4,
 "nbformat_minor": 2
}
